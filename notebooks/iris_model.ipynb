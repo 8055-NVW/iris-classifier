{
 "cells": [
  {
   "cell_type": "markdown",
   "id": "3f629a7e-0f08-418d-916d-f7d2953801dd",
   "metadata": {},
   "source": [
    "## Step 1 - Load and Inspect the Dataset"
   ]
  },
  {
   "cell_type": "code",
   "execution_count": 13,
   "id": "87043851-a72a-4eee-96f4-9b35527cd1de",
   "metadata": {},
   "outputs": [
    {
     "name": "stdout",
     "output_type": "stream",
     "text": [
      "shape: (150, 6)\n"
     ]
    },
    {
     "data": {
      "text/html": [
       "<div>\n",
       "<style scoped>\n",
       "    .dataframe tbody tr th:only-of-type {\n",
       "        vertical-align: middle;\n",
       "    }\n",
       "\n",
       "    .dataframe tbody tr th {\n",
       "        vertical-align: top;\n",
       "    }\n",
       "\n",
       "    .dataframe thead th {\n",
       "        text-align: right;\n",
       "    }\n",
       "</style>\n",
       "<table border=\"1\" class=\"dataframe\">\n",
       "  <thead>\n",
       "    <tr style=\"text-align: right;\">\n",
       "      <th></th>\n",
       "      <th>sepal length (cm)</th>\n",
       "      <th>sepal width (cm)</th>\n",
       "      <th>petal length (cm)</th>\n",
       "      <th>petal width (cm)</th>\n",
       "      <th>species_id</th>\n",
       "      <th>species</th>\n",
       "    </tr>\n",
       "  </thead>\n",
       "  <tbody>\n",
       "    <tr>\n",
       "      <th>0</th>\n",
       "      <td>5.1</td>\n",
       "      <td>3.5</td>\n",
       "      <td>1.4</td>\n",
       "      <td>0.2</td>\n",
       "      <td>0</td>\n",
       "      <td>setosa</td>\n",
       "    </tr>\n",
       "    <tr>\n",
       "      <th>1</th>\n",
       "      <td>4.9</td>\n",
       "      <td>3.0</td>\n",
       "      <td>1.4</td>\n",
       "      <td>0.2</td>\n",
       "      <td>0</td>\n",
       "      <td>setosa</td>\n",
       "    </tr>\n",
       "    <tr>\n",
       "      <th>2</th>\n",
       "      <td>4.7</td>\n",
       "      <td>3.2</td>\n",
       "      <td>1.3</td>\n",
       "      <td>0.2</td>\n",
       "      <td>0</td>\n",
       "      <td>setosa</td>\n",
       "    </tr>\n",
       "    <tr>\n",
       "      <th>3</th>\n",
       "      <td>4.6</td>\n",
       "      <td>3.1</td>\n",
       "      <td>1.5</td>\n",
       "      <td>0.2</td>\n",
       "      <td>0</td>\n",
       "      <td>setosa</td>\n",
       "    </tr>\n",
       "    <tr>\n",
       "      <th>4</th>\n",
       "      <td>5.0</td>\n",
       "      <td>3.6</td>\n",
       "      <td>1.4</td>\n",
       "      <td>0.2</td>\n",
       "      <td>0</td>\n",
       "      <td>setosa</td>\n",
       "    </tr>\n",
       "  </tbody>\n",
       "</table>\n",
       "</div>"
      ],
      "text/plain": [
       "   sepal length (cm)  sepal width (cm)  petal length (cm)  petal width (cm)  \\\n",
       "0                5.1               3.5                1.4               0.2   \n",
       "1                4.9               3.0                1.4               0.2   \n",
       "2                4.7               3.2                1.3               0.2   \n",
       "3                4.6               3.1                1.5               0.2   \n",
       "4                5.0               3.6                1.4               0.2   \n",
       "\n",
       "   species_id species  \n",
       "0           0  setosa  \n",
       "1           0  setosa  \n",
       "2           0  setosa  \n",
       "3           0  setosa  \n",
       "4           0  setosa  "
      ]
     },
     "metadata": {},
     "output_type": "display_data"
    },
    {
     "name": "stdout",
     "output_type": "stream",
     "text": [
      "species counts:\n",
      " species\n",
      "setosa        50\n",
      "versicolor    50\n",
      "virginica     50\n",
      "Name: count, dtype: int64\n"
     ]
    }
   ],
   "source": [
    "#imports\n",
    "from sklearn.datasets import load_iris\n",
    "import pandas as pd\n",
    "\n",
    "#load the dataset(returns an object)\n",
    "iris = load_iris()\n",
    "#We split features(X-flower measurements) and labels(y-species id)\n",
    "X, y = iris.data, iris.target\n",
    "\n",
    "#Build a table to inspect the data\n",
    "df = pd.DataFrame(X, columns=iris.feature_names)\n",
    "#add a new column for the species_id\n",
    "df[\"species_id\"] = y\n",
    "#this method will convert the above y IDs to target_names(readable names)\n",
    "df[\"species\"] = pd.Categorical.from_codes(y, iris.target_names)\n",
    "\n",
    "#Output check\n",
    "print(\"shape:\", df.shape)\n",
    "display(df.head())\n",
    "print(\"species counts:\\n\", df[\"species\"].value_counts())\n",
    "\n",
    "\n",
    "\n"
   ]
  },
  {
   "cell_type": "markdown",
   "id": "5255da89-e6e6-4234-9f6c-17c2602b21e8",
   "metadata": {},
   "source": [
    "- df refers to DataFrame in Pandas and refers to a two dimensional table with rows and columns.\n",
    "- were using a Dataframe bucause its easy to manipulate data with and its a more cleaner way to view the data"
   ]
  },
  {
   "cell_type": "markdown",
   "id": "fcda6a9e-ce01-41b9-934f-eda53fc87dec",
   "metadata": {},
   "source": [
    "## Step 2 - Split Train/Test"
   ]
  },
  {
   "cell_type": "markdown",
   "id": "d0fcfe7a-bd72-4365-a0f0-721b3d6fcfb1",
   "metadata": {},
   "source": [
    "- The goal here is to train and test and the same data to chek if the model memorises answers.\n",
    "- We will do this by splitting the sampels into an 80/20 split a Training set and a Test set"
   ]
  },
  {
   "cell_type": "code",
   "execution_count": null,
   "id": "fc99dc40-3147-4ae1-af59-30b956139595",
   "metadata": {},
   "outputs": [],
   "source": [
    "#Imports\n",
    "from sklearn.model_selection import train_test_split\n",
    "import numpy and np\n",
    "\n",
    "\n"
   ]
  }
 ],
 "metadata": {
  "kernelspec": {
   "display_name": "Python 3 (ipykernel)",
   "language": "python",
   "name": "python3"
  },
  "language_info": {
   "codemirror_mode": {
    "name": "ipython",
    "version": 3
   },
   "file_extension": ".py",
   "mimetype": "text/x-python",
   "name": "python",
   "nbconvert_exporter": "python",
   "pygments_lexer": "ipython3",
   "version": "3.13.9"
  }
 },
 "nbformat": 4,
 "nbformat_minor": 5
}
